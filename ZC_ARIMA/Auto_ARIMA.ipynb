{
 "cells": [
  {
   "cell_type": "code",
   "execution_count": 28,
   "metadata": {
    "ExecuteTime": {
     "end_time": "2020-12-30T12:31:26.849834Z",
     "start_time": "2020-12-30T12:31:26.839831Z"
    }
   },
   "outputs": [],
   "source": [
    "import pandas as pd\n",
    "import numpy as np\n",
    "from dateutil.parser import parse\n",
    "import matplotlib as mpl\n",
    "from matplotlib.pyplot import MultipleLocator\n",
    "import matplotlib.pyplot as plt\n",
    "import statsmodels.tsa.stattools as ts\n",
    "import statsmodels.api as sm\n",
    "from statsmodels.stats.diagnostic import acorr_ljungbox\n",
    "from statsmodels.graphics.tsaplots import plot_acf,plot_pacf\n",
    "from datetime import datetime\n",
    "import time\n",
    "import random\n",
    "from scipy.interpolate import interp1d\n",
    "import statsmodels.api as sm\n",
    "import seaborn as sns\n",
    "import itertools\n",
    "from statsmodels.tsa.stattools import adfuller\n",
    "from numpy import mean\n",
    "import math\n",
    "import os\n",
    "from statsmodels.graphics.api import qqplot\n",
    "from statsmodels.stats.stattools import durbin_watson #DW检验\n",
    "from pmdarima.arima import auto_arima"
   ]
  },
  {
   "cell_type": "code",
   "execution_count": 29,
   "metadata": {
    "ExecuteTime": {
     "end_time": "2020-12-30T12:31:26.999235Z",
     "start_time": "2020-12-30T12:31:26.995235Z"
    }
   },
   "outputs": [],
   "source": [
    "# 绘图plt设置中文和负号正常显示\n",
    "plt.rcParams['font.sans-serif'] = 'Microsoft YaHei'\n",
    "plt.rcParams['axes.unicode_minus'] = False"
   ]
  },
  {
   "cell_type": "code",
   "execution_count": 30,
   "metadata": {
    "ExecuteTime": {
     "end_time": "2020-12-30T12:31:27.137265Z",
     "start_time": "2020-12-30T12:31:27.131262Z"
    }
   },
   "outputs": [],
   "source": [
    "def get_data_dir(dataname):\n",
    "    father_dir = os.path.abspath('..')\n",
    "    data_dir = father_dir + '\\data'+f'\\{dataname}'\n",
    "    return data_dir"
   ]
  },
  {
   "cell_type": "code",
   "execution_count": 31,
   "metadata": {
    "ExecuteTime": {
     "end_time": "2020-12-30T12:31:27.297277Z",
     "start_time": "2020-12-30T12:31:27.291274Z"
    }
   },
   "outputs": [],
   "source": [
    "def read_file(filename):\n",
    "    temp = filename.split(\".\")\n",
    "    if temp[1] == \"xlsx\" or temp[1] == \"xls\":\n",
    "        return pd.read_excel(get_data_dir(filename), index_col=0)\n",
    "    elif temp[1] == \"csv\":\n",
    "        return pd.read_csv(get_data_dir(filename), index_col=0)\n",
    "    else:\n",
    "        return \"文件不存在或格式不符\""
   ]
  },
  {
   "cell_type": "code",
   "execution_count": 32,
   "metadata": {
    "ExecuteTime": {
     "end_time": "2020-12-30T12:31:27.452660Z",
     "start_time": "2020-12-30T12:31:27.446658Z"
    }
   },
   "outputs": [],
   "source": [
    "def plot_df(df, x, y, title=\"\", xlabel='Index', ylabel='Value', dpi=100):\n",
    "    plt.figure(figsize=(16,5), dpi=dpi)\n",
    "    plt.plot(x, y, color='tab:blue')\n",
    "    plt.gca().set(title=title, xlabel=xlabel, ylabel=ylabel)\n",
    "    plt.show()"
   ]
  },
  {
   "cell_type": "code",
   "execution_count": 33,
   "metadata": {
    "ExecuteTime": {
     "end_time": "2020-12-30T12:31:27.814686Z",
     "start_time": "2020-12-30T12:31:27.807686Z"
    }
   },
   "outputs": [],
   "source": [
    "def knn_mean(ts, n):\n",
    "    out = np.copy(ts)\n",
    "    for i, val in enumerate(ts):\n",
    "        if np.isnan(val):\n",
    "            n_by_2 = np.ceil(n / 2)\n",
    "            lower = np.max([0, int(i - n_by_2)])\n",
    "            upper = np.min([len(ts) + 1, int(i + n_by_2)])\n",
    "            ts_near = np.concatenate([ts[lower:i], ts[i:upper]])\n",
    "            out[i] = np.nanmean(ts_near)\n",
    "    return out"
   ]
  },
  {
   "cell_type": "code",
   "execution_count": 34,
   "metadata": {
    "ExecuteTime": {
     "end_time": "2020-12-30T12:31:28.204256Z",
     "start_time": "2020-12-30T12:31:28.190258Z"
    },
    "code_folding": [
     0
    ]
   },
   "outputs": [],
   "source": [
    "def plot_freq(df,KPI,num):\n",
    "    df_freq = pd.DataFrame(index=df[KPI][0:num].index)\n",
    "    df_freq['天数'] = [f'第{int(d / 24) + 1}天' for d in df[KPI][0:num].index]\n",
    "    df_freq['小时'] = [f'{(d) % 24 + 1}' for d in df[KPI][0:2207].index]\n",
    "    df_freq['values'] = df[KPI][0:num]\n",
    "\n",
    "    # 绘图\n",
    "    week_num = df_freq['天数'].unique()\n",
    "    np.random.seed(100)\n",
    "    mycolors = np.random.choice(list(mpl.colors.XKCD_COLORS.keys()), len(week_num), replace=False)\n",
    "    plt.figure(figsize=(16, 12), dpi=80)\n",
    "    for i, y in enumerate(week_num[0:-1]):\n",
    "        plt.plot('小时', 'values', data=df_freq[df_freq[\"天数\"] == y], color=mycolors[i], label=y)\n",
    "    plt.gca().set(xlim=(0, 23), ylim=(70, 95), ylabel='$Memory Load$', xlabel='$Hour$')\n",
    "    plt.yticks(fontsize=12, alpha=.7)\n",
    "    plt.show()"
   ]
  },
  {
   "cell_type": "code",
   "execution_count": 35,
   "metadata": {
    "ExecuteTime": {
     "end_time": "2020-12-30T12:31:28.778785Z",
     "start_time": "2020-12-30T12:31:28.773786Z"
    },
    "code_folding": [
     0
    ]
   },
   "outputs": [],
   "source": [
    "def ADF_is_diff(adf):\n",
    "    P_value = adf[0]\n",
    "    p1 = adf[4]['1%']\n",
    "    p5 = adf[4]['5%']\n",
    "    p10 = adf[4]['10%']\n",
    "    if P_value < p1 and P_value < p5 and P_value < p10:\n",
    "        return False\n",
    "    else:\n",
    "        return True"
   ]
  },
  {
   "cell_type": "code",
   "execution_count": 36,
   "metadata": {
    "ExecuteTime": {
     "end_time": "2020-12-30T12:31:29.213839Z",
     "start_time": "2020-12-30T12:31:29.201837Z"
    },
    "code_folding": [
     0
    ]
   },
   "outputs": [],
   "source": [
    "def plot_BIC(timeSeries,p_min, p_max, q_min, q_max, d_min, d_max):\n",
    "    results_bic = pd.DataFrame(index=['AR{}'.format(i) for i in range(p_min, p_max + 1)],\n",
    "                               columns=['MA{}'.format(i) for i in range(q_min, q_max + 1)])\n",
    "    num = 1\n",
    "    for p, d, q in itertools.product(range(p_min, p_max + 1),\n",
    "                                     range(d_min, d_max + 1),\n",
    "                                     range(q_min, q_max + 1)):\n",
    "        if p == 0 and d == 0 and q == 0:\n",
    "            results_bic.loc['AR{}'.format(p), 'MA{}'.format(q)] = np.nan\n",
    "            continue\n",
    "\n",
    "        try:\n",
    "            model = sm.tsa.ARIMA(timeSeries, order=(p, d, q), #enforce_stationarity=False,enforce_invertibility=False,\n",
    "                                 )\n",
    "            results = model.fit()\n",
    "            num += 1\n",
    "            print(f\"循环{num}次\")\n",
    "            results_bic.loc['AR{}'.format(p), 'MA{}'.format(q)] = results.bic\n",
    "        except:\n",
    "            continue\n",
    "    results_bic = results_bic[results_bic.columns].astype(float)\n",
    "    return results_bic"
   ]
  },
  {
   "cell_type": "code",
   "execution_count": 37,
   "metadata": {
    "ExecuteTime": {
     "end_time": "2020-12-30T12:31:29.370274Z",
     "start_time": "2020-12-30T12:31:29.358272Z"
    },
    "code_folding": [
     0
    ]
   },
   "outputs": [],
   "source": [
    "def evaluate(truth, predict, n=None, p=None):\n",
    "    error = []\n",
    "    squaredError = []   # 差值平方\n",
    "    absError = []       # 绝对误差\n",
    "    truthDeviation = []     # 真实值与均值的差平方\n",
    "    percentError = []       # 误差百分比\n",
    "    for i in range(len(truth)):\n",
    "        error.append(truth[i]-predict[i])\n",
    "        percentError.append(abs(truth[i]-predict[i])/truth[i])\n",
    "    for val in error:\n",
    "        squaredError.append(val**2)\n",
    "        absError.append(abs(val))\n",
    "    truthMean = sum(truth) / len(truth)\n",
    "    for val in truth:\n",
    "        truthDeviation.append((val - truthMean) ** 2)\n",
    "\n",
    "    MSE = sum(squaredError)/len(squaredError)   # 均方误差MSE\n",
    "    RMSE = math.sqrt(MSE)                       # 均方根误差RMSE\n",
    "    MAE = sum(absError)/len(absError)           # 平均绝对误差MAE\n",
    "    R2 = 1 - sum(squaredError)/sum(truthDeviation)  # 决定系数\n",
    "    MAPE = sum(percentError)/len(percentError)  # 平均百分比误差MAPE\n",
    "\n",
    "    R2_adj = 1 - ((1-R2)(n-1))/(n-p-1)  # 矫正决定系数\n",
    "    return MSE,RMSE,MAE,MAPE,R2,R2_adj"
   ]
  },
  {
   "cell_type": "code",
   "execution_count": 38,
   "metadata": {
    "ExecuteTime": {
     "end_time": "2020-12-30T12:31:29.846368Z",
     "start_time": "2020-12-30T12:31:29.543348Z"
    }
   },
   "outputs": [],
   "source": [
    "# 参数\n",
    "filename = \"服务器性能数据.xlsx\"\n",
    "KPI = \"内存负载\"\n",
    "window = 24   # K-近邻插值的窗口大小\n",
    "freq = 24   # 周期大小\n",
    "is_lack = True\n",
    "is_delete_freq = True\n",
    "forecast_index = 2046   # 预测时刻索引\n",
    "current_time = 6        # 预测时刻\n",
    "h = 12                  # 预测未来h步\n",
    "test_method = \"DW\"      # \"DW\"or\"QQ\"\n",
    "# 1.读取data数据\n",
    "df_original = read_file(filename)\n",
    "# 2.在数据中建立深拷贝副本\n",
    "df = df_original.copy(deep=True)\n",
    "# 3.观察原始序列图\n",
    "# plot_df(df, x=df.index, y=df[KPI], title=KPI)\n",
    "# 4.缺失值补全\n",
    "if is_lack:\n",
    "    df[KPI] = knn_mean(df[KPI], window)\n",
    "# 5.观察周期性\n",
    "# num = len(df[KPI])\n",
    "# plot_freq(df, KPI, num)\n",
    "# 6.去除周期性因素\n",
    "seasonal_series = []\n",
    "if is_delete_freq:\n",
    "    result_add = sm.tsa.seasonal_decompose(df[KPI], model='additive', period=24, extrapolate_trend='freq')\n",
    "    for i in (result_add.seasonal)[0:freq].values:\n",
    "        seasonal_series.append(i)\n",
    "    df[KPI] -= result_add.seasonal\n",
    "# 7.划分预测区间\n",
    "train = df[KPI][0:forecast_index]\n",
    "test = df_original[KPI][forecast_index: h+forecast_index]"
   ]
  },
  {
   "cell_type": "code",
   "execution_count": 39,
   "metadata": {
    "ExecuteTime": {
     "end_time": "2020-12-30T12:31:47.056174Z",
     "start_time": "2020-12-30T12:31:30.011346Z"
    }
   },
   "outputs": [
    {
     "name": "stdout",
     "output_type": "stream",
     "text": [
      "Performing stepwise search to minimize aic\n",
      " ARIMA(2,1,2)(0,0,0)[0] intercept   : AIC=450.950, Time=1.20 sec\n",
      " ARIMA(0,1,0)(0,0,0)[0] intercept   : AIC=982.100, Time=0.30 sec\n",
      " ARIMA(1,1,0)(0,0,0)[0] intercept   : AIC=598.545, Time=0.21 sec\n",
      " ARIMA(0,1,1)(0,0,0)[0] intercept   : AIC=455.447, Time=0.29 sec\n",
      " ARIMA(0,1,0)(0,0,0)[0]             : AIC=980.792, Time=0.11 sec\n",
      " ARIMA(1,1,2)(0,0,0)[0] intercept   : AIC=453.674, Time=1.09 sec\n",
      " ARIMA(2,1,1)(0,0,0)[0] intercept   : AIC=451.998, Time=0.57 sec\n",
      " ARIMA(3,1,2)(0,0,0)[0] intercept   : AIC=452.467, Time=0.82 sec\n",
      " ARIMA(2,1,3)(0,0,0)[0] intercept   : AIC=452.140, Time=2.01 sec\n",
      " ARIMA(1,1,1)(0,0,0)[0] intercept   : AIC=456.701, Time=0.39 sec\n",
      " ARIMA(1,1,3)(0,0,0)[0] intercept   : AIC=451.487, Time=1.10 sec\n",
      " ARIMA(3,1,1)(0,0,0)[0] intercept   : AIC=451.337, Time=0.92 sec\n",
      " ARIMA(3,1,3)(0,0,0)[0] intercept   : AIC=454.532, Time=1.59 sec\n",
      " ARIMA(2,1,2)(0,0,0)[0]             : AIC=449.351, Time=0.57 sec\n",
      " ARIMA(1,1,2)(0,0,0)[0]             : AIC=452.035, Time=0.49 sec\n",
      " ARIMA(2,1,1)(0,0,0)[0]             : AIC=450.409, Time=0.29 sec\n",
      " ARIMA(3,1,2)(0,0,0)[0]             : AIC=450.855, Time=0.65 sec\n",
      " ARIMA(2,1,3)(0,0,0)[0]             : AIC=450.524, Time=1.20 sec\n",
      " ARIMA(1,1,1)(0,0,0)[0]             : AIC=455.066, Time=0.16 sec\n",
      " ARIMA(1,1,3)(0,0,0)[0]             : AIC=449.889, Time=0.58 sec\n",
      " ARIMA(3,1,1)(0,0,0)[0]             : AIC=449.716, Time=0.49 sec\n",
      " ARIMA(3,1,3)(0,0,0)[0]             : AIC=452.915, Time=1.45 sec\n",
      "\n",
      "Best model:  ARIMA(2,1,2)(0,0,0)[0]          \n",
      "Total fit time: 16.467 seconds\n"
     ]
    },
    {
     "data": {
      "text/plain": [
       "ARIMA(order=(2, 1, 2), scoring_args={}, suppress_warnings=True,\n",
       "      with_intercept=False)"
      ]
     },
     "execution_count": 39,
     "metadata": {},
     "output_type": "execute_result"
    }
   ],
   "source": [
    "model = auto_arima(train, trace=True, error_action='ignore', suppress_warnings=True)\n",
    "model.fit(train)"
   ]
  },
  {
   "cell_type": "code",
   "execution_count": 40,
   "metadata": {
    "ExecuteTime": {
     "end_time": "2020-12-30T12:31:50.293752Z",
     "start_time": "2020-12-30T12:31:50.284755Z"
    }
   },
   "outputs": [],
   "source": [
    "gdp_pre=model.predict(n_periods=len(test),return_conf_int=True)"
   ]
  },
  {
   "cell_type": "code",
   "execution_count": 41,
   "metadata": {
    "ExecuteTime": {
     "end_time": "2020-12-30T12:31:52.540614Z",
     "start_time": "2020-12-30T12:31:52.534612Z"
    }
   },
   "outputs": [
    {
     "data": {
      "text/plain": [
       "(array([70.32801613, 70.3254067 , 70.32503515, 70.32544537, 70.3253587 ,\n",
       "        70.32533966, 70.32535538, 70.3253526 , 70.3253517 , 70.3253523 ,\n",
       "        70.32535221, 70.32535217]),\n",
       " array([[69.80003678, 70.85599548],\n",
       "        [69.35334828, 71.29746512],\n",
       "        [69.06001668, 71.59005362],\n",
       "        [68.83971842, 71.81117232],\n",
       "        [68.64292166, 72.00779573],\n",
       "        [68.46681093, 72.18386839],\n",
       "        [68.30650954, 72.34420122],\n",
       "        [68.15788535, 72.49281984],\n",
       "        [68.01881116, 72.63189224],\n",
       "        [67.88767549, 72.7630291 ],\n",
       "        [67.76323852, 72.8874659 ],\n",
       "        [67.64457106, 73.00613328]]))"
      ]
     },
     "execution_count": 41,
     "metadata": {},
     "output_type": "execute_result"
    }
   ],
   "source": [
    "gdp_pre"
   ]
  },
  {
   "cell_type": "code",
   "execution_count": 43,
   "metadata": {
    "ExecuteTime": {
     "end_time": "2020-12-30T12:32:56.950206Z",
     "start_time": "2020-12-30T12:32:56.928697Z"
    }
   },
   "outputs": [
    {
     "data": {
      "text/html": [
       "<table class=\"simpletable\">\n",
       "<caption>SARIMAX Results</caption>\n",
       "<tr>\n",
       "  <th>Dep. Variable:</th>           <td>y</td>        <th>  No. Observations:  </th>   <td>2046</td>  \n",
       "</tr>\n",
       "<tr>\n",
       "  <th>Model:</th>           <td>SARIMAX(2, 1, 2)</td> <th>  Log Likelihood     </th> <td>-219.675</td>\n",
       "</tr>\n",
       "<tr>\n",
       "  <th>Date:</th>            <td>Wed, 30 Dec 2020</td> <th>  AIC                </th>  <td>449.351</td>\n",
       "</tr>\n",
       "<tr>\n",
       "  <th>Time:</th>                <td>20:32:56</td>     <th>  BIC                </th>  <td>477.466</td>\n",
       "</tr>\n",
       "<tr>\n",
       "  <th>Sample:</th>                  <td>0</td>        <th>  HQIC               </th>  <td>459.663</td>\n",
       "</tr>\n",
       "<tr>\n",
       "  <th></th>                      <td> - 2046</td>     <th>                     </th>     <td> </td>   \n",
       "</tr>\n",
       "<tr>\n",
       "  <th>Covariance Type:</th>        <td>opg</td>       <th>                     </th>     <td> </td>   \n",
       "</tr>\n",
       "</table>\n",
       "<table class=\"simpletable\">\n",
       "<tr>\n",
       "     <td></td>       <th>coef</th>     <th>std err</th>      <th>z</th>      <th>P>|z|</th>  <th>[0.025</th>    <th>0.975]</th>  \n",
       "</tr>\n",
       "<tr>\n",
       "  <th>ar.L1</th>  <td>   -0.3133</td> <td>    0.204</td> <td>   -1.539</td> <td> 0.124</td> <td>   -0.712</td> <td>    0.086</td>\n",
       "</tr>\n",
       "<tr>\n",
       "  <th>ar.L2</th>  <td>   -0.1126</td> <td>    0.019</td> <td>   -5.812</td> <td> 0.000</td> <td>   -0.151</td> <td>   -0.075</td>\n",
       "</tr>\n",
       "<tr>\n",
       "  <th>ma.L1</th>  <td>    0.8591</td> <td>    0.204</td> <td>    4.218</td> <td> 0.000</td> <td>    0.460</td> <td>    1.258</td>\n",
       "</tr>\n",
       "<tr>\n",
       "  <th>ma.L2</th>  <td>    0.2711</td> <td>    0.109</td> <td>    2.480</td> <td> 0.013</td> <td>    0.057</td> <td>    0.485</td>\n",
       "</tr>\n",
       "<tr>\n",
       "  <th>sigma2</th> <td>    0.0726</td> <td>    0.000</td> <td>  432.322</td> <td> 0.000</td> <td>    0.072</td> <td>    0.073</td>\n",
       "</tr>\n",
       "</table>\n",
       "<table class=\"simpletable\">\n",
       "<tr>\n",
       "  <th>Ljung-Box (Q):</th>          <td>21.32</td> <th>  Jarque-Bera (JB):  </th> <td>12582711.77</td>\n",
       "</tr>\n",
       "<tr>\n",
       "  <th>Prob(Q):</th>                <td>0.99</td>  <th>  Prob(JB):          </th>    <td>0.00</td>    \n",
       "</tr>\n",
       "<tr>\n",
       "  <th>Heteroskedasticity (H):</th> <td>5.59</td>  <th>  Skew:              </th>   <td>-13.66</td>   \n",
       "</tr>\n",
       "<tr>\n",
       "  <th>Prob(H) (two-sided):</th>    <td>0.00</td>  <th>  Kurtosis:          </th>   <td>386.31</td>   \n",
       "</tr>\n",
       "</table><br/><br/>Warnings:<br/>[1] Covariance matrix calculated using the outer product of gradients (complex-step)."
      ],
      "text/plain": [
       "<class 'statsmodels.iolib.summary.Summary'>\n",
       "\"\"\"\n",
       "                               SARIMAX Results                                \n",
       "==============================================================================\n",
       "Dep. Variable:                      y   No. Observations:                 2046\n",
       "Model:               SARIMAX(2, 1, 2)   Log Likelihood                -219.675\n",
       "Date:                Wed, 30 Dec 2020   AIC                            449.351\n",
       "Time:                        20:32:56   BIC                            477.466\n",
       "Sample:                             0   HQIC                           459.663\n",
       "                               - 2046                                         \n",
       "Covariance Type:                  opg                                         \n",
       "==============================================================================\n",
       "                 coef    std err          z      P>|z|      [0.025      0.975]\n",
       "------------------------------------------------------------------------------\n",
       "ar.L1         -0.3133      0.204     -1.539      0.124      -0.712       0.086\n",
       "ar.L2         -0.1126      0.019     -5.812      0.000      -0.151      -0.075\n",
       "ma.L1          0.8591      0.204      4.218      0.000       0.460       1.258\n",
       "ma.L2          0.2711      0.109      2.480      0.013       0.057       0.485\n",
       "sigma2         0.0726      0.000    432.322      0.000       0.072       0.073\n",
       "===================================================================================\n",
       "Ljung-Box (Q):                       21.32   Jarque-Bera (JB):          12582711.77\n",
       "Prob(Q):                              0.99   Prob(JB):                         0.00\n",
       "Heteroskedasticity (H):               5.59   Skew:                           -13.66\n",
       "Prob(H) (two-sided):                  0.00   Kurtosis:                       386.31\n",
       "===================================================================================\n",
       "\n",
       "Warnings:\n",
       "[1] Covariance matrix calculated using the outer product of gradients (complex-step).\n",
       "\"\"\""
      ]
     },
     "execution_count": 43,
     "metadata": {},
     "output_type": "execute_result"
    }
   ],
   "source": [
    "model.summary()"
   ]
  },
  {
   "cell_type": "code",
   "execution_count": 45,
   "metadata": {
    "ExecuteTime": {
     "end_time": "2020-12-30T12:33:59.752859Z",
     "start_time": "2020-12-30T12:33:59.746859Z"
    }
   },
   "outputs": [
    {
     "data": {
      "text/plain": [
       "2046"
      ]
     },
     "execution_count": 45,
     "metadata": {},
     "output_type": "execute_result"
    }
   ],
   "source": [
    "len(model.resid())"
   ]
  },
  {
   "cell_type": "code",
   "execution_count": 46,
   "metadata": {
    "ExecuteTime": {
     "end_time": "2020-12-30T12:38:14.700633Z",
     "start_time": "2020-12-30T12:38:13.700402Z"
    }
   },
   "outputs": [
    {
     "data": {
      "image/png": "[encoded data removed]",
      "text/plain": [
       "<Figure size 432x288 with 4 Axes>"
      ]
     },
     "execution_count": 46,
     "metadata": {},
     "output_type": "execute_result"
    },
    {
     "data": {
      "image/png": "[encoded data removed]",
      "text/plain": [
       "<Figure size 432x288 with 4 Axes>"
      ]
     },
     "metadata": {
      "needs_background": "light"
     },
     "output_type": "display_data"
    }
   ],
   "source": [
    "model.plot_diagnostics()"
   ]
  },
  {
   "cell_type": "code",
   "execution_count": 16,
   "metadata": {
    "ExecuteTime": {
     "end_time": "2020-12-30T12:05:16.124134Z",
     "start_time": "2020-12-30T12:05:15.597084Z"
    }
   },
   "outputs": [],
   "source": [
    "model = sm.tsa.ARIMA(train.values, order=(2, 1, 2))\n",
    "result = model.fit()\n",
    "forecast, stderr, conf = result.forecast(12)"
   ]
  },
  {
   "cell_type": "code",
   "execution_count": 17,
   "metadata": {
    "ExecuteTime": {
     "end_time": "2020-12-30T12:05:21.158635Z",
     "start_time": "2020-12-30T12:05:21.153634Z"
    }
   },
   "outputs": [
    {
     "data": {
      "text/plain": [
       "array([70.32426202, 70.31581328, 70.30965876, 70.30450781, 70.29878302,\n",
       "       70.29312482, 70.28751056, 70.281875  , 70.27624115, 70.27060918,\n",
       "       70.26497642, 70.25934369])"
      ]
     },
     "execution_count": 17,
     "metadata": {},
     "output_type": "execute_result"
    }
   ],
   "source": [
    "forecast"
   ]
  },
  {
   "cell_type": "code",
   "execution_count": null,
   "metadata": {},
   "outputs": [],
   "source": []
  }
 ],
 "metadata": {
  "kernelspec": {
   "display_name": "python38",
   "language": "python",
   "name": "env_py38"
  },
  "language_info": {
   "codemirror_mode": {
    "name": "ipython",
    "version": 3
   },
   "file_extension": ".py",
   "mimetype": "text/x-python",
   "name": "python",
   "nbconvert_exporter": "python",
   "pygments_lexer": "ipython3",
   "version": "3.8.2"
  },
  "toc": {
   "base_numbering": 1,
   "nav_menu": {},
   "number_sections": true,
   "sideBar": true,
   "skip_h1_title": false,
   "title_cell": "Table of Contents",
   "title_sidebar": "Contents",
   "toc_cell": false,
   "toc_position": {},
   "toc_section_display": true,
   "toc_window_display": false
  }
 },
 "nbformat": 4,
 "nbformat_minor": 4
}
